{
 "cells": [
  {
   "cell_type": "code",
   "execution_count": 1,
   "id": "0aa0b69a-b088-4dbb-a5bc-e5f97672fd6d",
   "metadata": {},
   "outputs": [],
   "source": [
    "def solution(a):\n",
    "\n",
    "    indexOfMinimum = -1\n",
    "    minimalSum = float('inf')\n",
    "\n",
    "    for i in range(len(a)):\n",
    "        curSum = 0\n",
    "        for j in range(len(a)):\n",
    "            curSum += abs(a[i] - a[j])\n",
    "        if curSum < minimalSum:\n",
    "            minimalSum = curSum\n",
    "            indexOfMinimum = i\n",
    "\n",
    "    return a[indexOfMinimum]"
   ]
  },
  {
   "cell_type": "code",
   "execution_count": 2,
   "id": "e747a2e5-6cba-49ab-922a-bdceb832596a",
   "metadata": {},
   "outputs": [],
   "source": [
    "b =  [2, 4, 7]"
   ]
  },
  {
   "cell_type": "code",
   "execution_count": 3,
   "id": "dc9fd0b1-3ffc-42e0-b804-93672d1d24ea",
   "metadata": {},
   "outputs": [],
   "source": [
    "c =solution (b)"
   ]
  },
  {
   "cell_type": "code",
   "execution_count": 4,
   "id": "7ea9ffbd-a523-41d8-9815-a50251d0a919",
   "metadata": {},
   "outputs": [
    {
     "data": {
      "text/plain": [
       "4"
      ]
     },
     "execution_count": 4,
     "metadata": {},
     "output_type": "execute_result"
    }
   ],
   "source": [
    "c"
   ]
  },
  {
   "cell_type": "code",
   "execution_count": 5,
   "id": "63cb04c9-82d5-44a9-a946-0fc70982370d",
   "metadata": {},
   "outputs": [],
   "source": [
    "b =  [2, 3]"
   ]
  },
  {
   "cell_type": "code",
   "execution_count": 6,
   "id": "70c102e9-d833-4e06-96d1-c7cfbfe5bb11",
   "metadata": {},
   "outputs": [],
   "source": [
    "c =solution (b)"
   ]
  },
  {
   "cell_type": "code",
   "execution_count": 7,
   "id": "881fbcb0-084d-4108-8fcb-bf85c9895355",
   "metadata": {},
   "outputs": [
    {
     "data": {
      "text/plain": [
       "2"
      ]
     },
     "execution_count": 7,
     "metadata": {},
     "output_type": "execute_result"
    }
   ],
   "source": [
    "c"
   ]
  },
  {
   "cell_type": "code",
   "execution_count": null,
   "id": "f7a7395b-0d8f-4835-8bae-1bac3ba54262",
   "metadata": {},
   "outputs": [],
   "source": [
    "from abc import ABC\n",
    "\n",
    "\n",
    "class IntegerContainer(ABC):\n",
    "    \"\"\"\n",
    "    `IntegerContainer` interface.\n",
    "    \"\"\"\n",
    "\n",
    "    def add(self, value: int) -> int:\n",
    "        \"\"\"\n",
    "        Should add the specified integer `value` to the container\n",
    "        and return the number of integers in the container after the\n",
    "        addition.\n",
    "        \"\"\"\n",
    "        # default implementation\n",
    "        return 0\n",
    "\n",
    "    def delete(self, value: int) -> bool:\n",
    "        \"\"\"\n",
    "        Should attempt to remove the specified integer `value` from\n",
    "        the container.\n",
    "        If the `value` is present in the container, remove it and\n",
    "        return `True`, otherwise, return `False`.\n",
    "        \"\"\"\n",
    "        # default implementation\n",
    "        return False\n"
   ]
  },
  {
   "cell_type": "code",
   "execution_count": null,
   "id": "919c2ec1-6a9a-45d7-898f-5d01db59f372",
   "metadata": {},
   "outputs": [],
   "source": [
    "from integer_container import IntegerContainer\n",
    "\n",
    "\n",
    "class IntegerContainerImpl(IntegerContainer):\n",
    "\n",
    "    def __init__(self):\n",
    "        # TODO: implement\n",
    "        pass\n",
    "\n",
    "    # TODO: implement interface methods here\n"
   ]
  },
  {
   "cell_type": "code",
   "execution_count": 8,
   "id": "d261a415-e431-4b5c-a394-8f3752adf346",
   "metadata": {},
   "outputs": [
    {
     "ename": "ModuleNotFoundError",
     "evalue": "No module named 'integer_container'",
     "output_type": "error",
     "traceback": [
      "\u001b[0;31m---------------------------------------------------------------------------\u001b[0m",
      "\u001b[0;31mModuleNotFoundError\u001b[0m                       Traceback (most recent call last)",
      "Cell \u001b[0;32mIn[8], line 1\u001b[0m\n\u001b[0;32m----> 1\u001b[0m \u001b[38;5;28;01mfrom\u001b[39;00m \u001b[38;5;21;01minteger_container\u001b[39;00m \u001b[38;5;28;01mimport\u001b[39;00m IntegerContainer\n\u001b[1;32m      4\u001b[0m \u001b[38;5;28;01mclass\u001b[39;00m \u001b[38;5;21;01mIntegerContainerImpl\u001b[39;00m(IntegerContainer):\n\u001b[1;32m      6\u001b[0m     \u001b[38;5;28;01mdef\u001b[39;00m \u001b[38;5;21m__init__\u001b[39m(\u001b[38;5;28mself\u001b[39m, data):\n",
      "\u001b[0;31mModuleNotFoundError\u001b[0m: No module named 'integer_container'"
     ]
    }
   ],
   "source": [
    "from integer_container import IntegerContainer\n",
    "\n",
    "\n",
    "class IntegerContainerImpl(IntegerContainer):\n",
    "\n",
    "    def __init__(self, data):\n",
    "        self.data = data\n",
    "        \n",
    "    def add(self, value: int) -> int :\n",
    "        self.data.appen(value)\n",
    "       \n",
    "        \n",
    "    def delete(self, value: int) -> bool :\n",
    "        if value in self.data:\n",
    "            self.data.remove(value)\n",
    "            return True\n",
    "        else:\n",
    "            return False\n",
    "            "
   ]
  },
  {
   "cell_type": "code",
   "execution_count": null,
   "id": "0041c30b-bcd5-4e3e-ac15-454837c237cb",
   "metadata": {},
   "outputs": [],
   "source": [
    "def solution(line):\n",
    "    atLeastOneDigit = False\n",
    "    if line[len(line) - 1] == '#':\n",
    "        i = 0\n",
    "        base = 0\n",
    "        ...\n",
    "        if base < 2 or base > 16:\n",
    "            return False\n",
    "        i += 1\n",
    "        while i < len(line) - 1:\n",
    "            if line[i] != '_':\n",
    "                digit = -1\n",
    "                if 'a' <= line[i] and line[i] <= 'f':\n",
    "                    digit = ord(line[i]) - ord('a') + 10\n",
    "                if 'A' <= line[i] and line[i] <= 'F':\n",
    "                    digit = ord(line[i]) - ord('A') + 10\n",
    "                if '0' <= line[i] and line[i] <= '9':\n",
    "                    digit = ord(line[i]) - ord('0')\n",
    "                if 0 <= digit and digit < base:\n",
    "                    atLeastOneDigit = True\n",
    "                else:\n",
    "                    return False\n",
    "            i += 1\n",
    "    else:\n",
    "        for i in range(len(line)):\n",
    "            if line[i] != '_':\n",
    "                if '0' <= line[i] and line[i] <= '9':\n",
    "                    atLeastOneDigit = True\n",
    "                else:\n",
    "                    return False\n",
    "    return atLeastOneDigit\n"
   ]
  },
  {
   "cell_type": "code",
   "execution_count": null,
   "id": "0fefbfb1-914a-4d85-9e08-6e57cf683ee9",
   "metadata": {},
   "outputs": [],
   "source": [
    "def solution(n):\n",
    "    sumDigits = 0\n",
    "    if n < 10 :\n",
    "        return sumDigits\n",
    "    elif n > 99 :\n",
    "        return sumDigits\n",
    "    else :\n",
    "        nbDigits = str(n)\n",
    "        for k in nbDigits :\n",
    "            sumDigits += int(k)\n",
    "\n",
    "    return sumDigits \n"
   ]
  },
  {
   "cell_type": "code",
   "execution_count": 32,
   "id": "b97eaa66-120e-4ddc-96ed-decbc888bc32",
   "metadata": {},
   "outputs": [],
   "source": [
    "def pyramid(value, n):\n",
    "    j = 0\n",
    "    k = n\n",
    "    while k > 0:\n",
    "        print(j*\"\\t\" + str(value)*k)\n",
    "        k-=2\n",
    "        j+=2\n",
    "    return (0)"
   ]
  },
  {
   "cell_type": "code",
   "execution_count": 34,
   "id": "4c753715-73a4-4450-8894-bc2334b965cf",
   "metadata": {},
   "outputs": [
    {
     "name": "stdout",
     "output_type": "stream",
     "text": [
      "11111111111\n",
      "\t\t111111111\n",
      "\t\t\t\t1111111\n",
      "\t\t\t\t\t\t11111\n",
      "\t\t\t\t\t\t\t\t111\n",
      "\t\t\t\t\t\t\t\t\t\t1\n"
     ]
    },
    {
     "data": {
      "text/plain": [
       "0"
      ]
     },
     "execution_count": 34,
     "metadata": {},
     "output_type": "execute_result"
    }
   ],
   "source": [
    "pyramid(1, 11)"
   ]
  },
  {
   "cell_type": "code",
   "execution_count": 18,
   "id": "86352092-fe5f-4596-bedd-55ea5fdeda1d",
   "metadata": {},
   "outputs": [
    {
     "ename": "SyntaxError",
     "evalue": "unexpected character after line continuation character (1624592850.py, line 1)",
     "output_type": "error",
     "traceback": [
      "\u001b[0;36m  Cell \u001b[0;32mIn[18], line 1\u001b[0;36m\u001b[0m\n\u001b[0;31m    print(\\t )\u001b[0m\n\u001b[0m           ^\u001b[0m\n\u001b[0;31mSyntaxError\u001b[0m\u001b[0;31m:\u001b[0m unexpected character after line continuation character\n"
     ]
    }
   ],
   "source": [
    "print(\\t )"
   ]
  },
  {
   "cell_type": "code",
   "execution_count": null,
   "id": "0a1b7008-57cb-4ecd-aafd-7af2722b1dd0",
   "metadata": {},
   "outputs": [],
   "source": []
  }
 ],
 "metadata": {
  "kernelspec": {
   "display_name": "Python 3 (ipykernel)",
   "language": "python",
   "name": "python3"
  },
  "language_info": {
   "codemirror_mode": {
    "name": "ipython",
    "version": 3
   },
   "file_extension": ".py",
   "mimetype": "text/x-python",
   "name": "python",
   "nbconvert_exporter": "python",
   "pygments_lexer": "ipython3",
   "version": "3.10.12"
  }
 },
 "nbformat": 4,
 "nbformat_minor": 5
}
