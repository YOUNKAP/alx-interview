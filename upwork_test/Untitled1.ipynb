{
 "cells": [
  {
   "cell_type": "markdown",
   "id": "bf502220-eaa1-46b2-b3c4-34c745ba199a",
   "metadata": {},
   "source": [
    "## PRIMER NUMBER"
   ]
  },
  {
   "cell_type": "code",
   "execution_count": 11,
   "id": "c39b01c2-8764-4274-b664-d62035f70a9a",
   "metadata": {},
   "outputs": [
    {
     "name": "stdout",
     "output_type": "stream",
     "text": [
      "599\n",
      "1\n"
     ]
    }
   ],
   "source": [
    "from math import sqrt \n",
    "def checkPrime( n : int) -> int:\n",
    "    \"\"\"\n",
    "    Find is a number is prime or not\n",
    "    \n",
    "    Parameters\n",
    "    ----------\n",
    "    n : interger\n",
    "        positive integer greather than 1\n",
    "        \n",
    "    Returns\n",
    "    ------\n",
    "    result : int\n",
    "        0 if n is prime\n",
    "        1 if n not prime\n",
    "    \"\"\"\n",
    "    i = 2\n",
    "    result =  0\n",
    "    while i <= int(sqrt(n)):\n",
    "        if n % i == 0 :\n",
    "            result = 1 \n",
    "            break\n",
    "        else :\n",
    "            i+=1\n",
    "    print(i)\n",
    "    return result \n",
    "if __name__ == \"__main__\":\n",
    "    print(checkPrime(1000000001100000001))"
   ]
  },
  {
   "cell_type": "code",
   "execution_count": 17,
   "id": "035b879f-604f-477e-bc86-19ab2b15f9af",
   "metadata": {},
   "outputs": [
    {
     "name": "stdout",
     "output_type": "stream",
     "text": [
      "55\n"
     ]
    }
   ],
   "source": [
    "from math import sqrt \n",
    "def fibonacci( n : int) -> int:\n",
    "    \"\"\"\n",
    "    Implement fibonacci\n",
    "    \n",
    "    Parameters\n",
    "    ----------\n",
    "    n : interger\n",
    "        \n",
    "    Returns\n",
    "    ------\n",
    "    fibo : int\n",
    "    \"\"\"\n",
    "    if n == 0 :\n",
    "        return 0\n",
    "    elif n == 1 :\n",
    "        return 1\n",
    "    else :\n",
    "        return fibonacci(n - 1) + fibonacci( n -2)\n",
    "if __name__ == \"__main__\":\n",
    "    print(fibonacci(10))"
   ]
  },
  {
   "cell_type": "code",
   "execution_count": 25,
   "id": "199132e8-829e-4992-9e03-28614812eb64",
   "metadata": {},
   "outputs": [
    {
     "name": "stdout",
     "output_type": "stream",
     "text": [
      "8\n"
     ]
    }
   ],
   "source": [
    "from math import sqrt \n",
    "def factorielle( n : int) -> int:\n",
    "    \"\"\"\n",
    "    Implement fibonacci\n",
    "    \n",
    "    Parameters\n",
    "    ----------\n",
    "    n : interger\n",
    "        \n",
    "    Returns\n",
    "    ------\n",
    "    factorielle : int\n",
    "    \"\"\"\n",
    "    if n == 0 :\n",
    "        return 1\n",
    "    elif n == 1 :\n",
    "        return 1\n",
    "    else :\n",
    "        return n*fibonacci(n - 1)\n",
    "if __name__ == \"__main__\":\n",
    "    print(factorielle(4))"
   ]
  },
  {
   "cell_type": "code",
   "execution_count": 41,
   "id": "32cac4c8-fedc-49fe-b1d3-409eb011cfe3",
   "metadata": {},
   "outputs": [
    {
     "name": "stdout",
     "output_type": "stream",
     "text": [
      "True\n"
     ]
    }
   ],
   "source": [
    "from math import sqrt \n",
    "def isTestSolvable( ids : int, k : int) -> int:\n",
    "    def sumDigit(n):\n",
    "        s = 0\n",
    "        for i in str(n):\n",
    "            s+=int(i)\n",
    "        return s\n",
    "    if sumDigit(ids)%k == 0 :\n",
    "        return True\n",
    "    else:\n",
    "        return False\n",
    "if __name__ == \"__main__\":\n",
    "    print(isTestSolvable(529665, 3))"
   ]
  },
  {
   "cell_type": "code",
   "execution_count": 39,
   "id": "28550abd-257e-487b-9150-1c470ea84394",
   "metadata": {},
   "outputs": [
    {
     "data": {
      "text/plain": [
       "True"
      ]
     },
     "execution_count": 39,
     "metadata": {},
     "output_type": "execute_result"
    }
   ],
   "source": [
    "\"2\" in str(11582587)"
   ]
  },
  {
   "cell_type": "code",
   "execution_count": 42,
   "id": "8c8d5b04-102c-411b-bc75-3ff307331958",
   "metadata": {},
   "outputs": [
    {
     "data": {
      "text/plain": [
       "'/home/duplex/upwork_test'"
      ]
     },
     "execution_count": 42,
     "metadata": {},
     "output_type": "execute_result"
    }
   ],
   "source": [
    "pwd"
   ]
  },
  {
   "cell_type": "code",
   "execution_count": null,
   "id": "b99baee0-b66f-43c9-ae98-9a9a178c8a90",
   "metadata": {},
   "outputs": [],
   "source": []
  },
  {
   "cell_type": "code",
   "execution_count": null,
   "id": "c2212fd0-1278-4a2a-8972-12f721d74de0",
   "metadata": {},
   "outputs": [],
   "source": [
    "from math import sqrt \n",
    "def findPrime(n: int):\n",
    "    divisorList=[2,3,5,7,11,13,17,19]\n",
    "    if n in divisorList :\n",
    "        result = True\n",
    "    else :\n",
    "        for j in divisorList :\n",
    "            if n%j== 0 :\n",
    "                result = False\n",
    "                break\n",
    "    return result\n",
    "                \n",
    "if __name__ == \"__main__\":\n",
    "    print(findPrime(11))"
   ]
  },
  {
   "cell_type": "code",
   "execution_count": null,
   "id": "8cfe4363-3134-4619-b67d-544ed140ba1d",
   "metadata": {},
   "outputs": [],
   "source": [
    "from math import sqrt \n",
    "def findPrime(n: int):\n",
    "    divisorList=[2,3,5,7,11,13,17,19]\n",
    "    if n in divisorList :\n",
    "        result = True\n",
    "    else :\n",
    "        for j in divisorList :\n",
    "            if n%j== 0 :\n",
    "                result = False\n",
    "                break\n",
    "    return result\n",
    "                \n",
    "if __name__ == \"__main__\":\n",
    "    print(findPrime(11))"
   ]
  }
 ],
 "metadata": {
  "kernelspec": {
   "display_name": "Python 3 (ipykernel)",
   "language": "python",
   "name": "python3"
  },
  "language_info": {
   "codemirror_mode": {
    "name": "ipython",
    "version": 3
   },
   "file_extension": ".py",
   "mimetype": "text/x-python",
   "name": "python",
   "nbconvert_exporter": "python",
   "pygments_lexer": "ipython3",
   "version": "3.10.12"
  }
 },
 "nbformat": 4,
 "nbformat_minor": 5
}
